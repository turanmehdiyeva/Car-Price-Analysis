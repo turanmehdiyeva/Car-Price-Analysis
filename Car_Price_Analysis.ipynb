{
 "cells": [
  {
   "cell_type": "markdown",
   "id": "63eece6e",
   "metadata": {
    "id": "63eece6e"
   },
   "source": [
    "## Car Price Analysis"
   ]
  },
  {
   "cell_type": "markdown",
   "id": "91cfe35c",
   "metadata": {
    "id": "91cfe35c"
   },
   "source": [
    "First of all, we have to import libraries we are going to use"
   ]
  },
  {
   "cell_type": "code",
   "execution_count": 1,
   "id": "d190e291",
   "metadata": {
    "id": "d190e291"
   },
   "outputs": [],
   "source": [
    "from bs4 import BeautifulSoup\n",
    "import numpy as np\n",
    "import pandas as pd\n",
    "import requests\n",
    "import re"
   ]
  },
  {
   "cell_type": "code",
   "execution_count": 2,
   "id": "b81e9e5f",
   "metadata": {
    "id": "b81e9e5f"
   },
   "outputs": [],
   "source": [
    "import warnings\n",
    "warnings.filterwarnings('ignore')"
   ]
  },
  {
   "cell_type": "markdown",
   "id": "55904cca",
   "metadata": {
    "id": "55904cca"
   },
   "source": [
    "To make Car Price Prediction model we need to use Regression model. And a Regression model needs the data. That's why, firstly, we have to scrap our data. I will do it from turbo.az "
   ]
  },
  {
   "cell_type": "code",
   "execution_count": 3,
   "id": "e59fb1c9",
   "metadata": {
    "id": "e59fb1c9"
   },
   "outputs": [],
   "source": [
    "def get_car_info(url):\n",
    "    page = requests.get(url)\n",
    "    soup = BeautifulSoup(page.content, 'html.parser')\n",
    "    info = soup.find('div', class_='product-properties-container')\n",
    "    info_rows = info.find_all('li')\n",
    "    \n",
    "    car_info={}\n",
    "    for index, row in enumerate(info_rows):\n",
    "        try:\n",
    "            content_key = row.find('label').get_text()\n",
    "            content_value = row.find('div', class_ ='product-properties-value' ).get_text()\n",
    "            car_info[content_key] = content_value\n",
    "        except:\n",
    "            continue\n",
    "    return car_info\n",
    "    "
   ]
  },
  {
   "cell_type": "markdown",
   "id": "061fbb3e",
   "metadata": {
    "id": "061fbb3e"
   },
   "source": [
    "This function get the url adress of the car and get all important information about the car that had been set"
   ]
  },
  {
   "cell_type": "markdown",
   "id": "22002850",
   "metadata": {
    "id": "22002850"
   },
   "source": [
    "In the code below we get link adress of cars from page 1 to 20"
   ]
  },
  {
   "cell_type": "code",
   "execution_count": 4,
   "id": "b607c726",
   "metadata": {
    "id": "b607c726"
   },
   "outputs": [],
   "source": [
    "base_path = 'https://turbo.az/'\n",
    "car_info_list = []\n",
    "lst = []\n",
    "link_list = []"
   ]
  },
  {
   "cell_type": "code",
   "execution_count": 5,
   "id": "2ae66b4a",
   "metadata": {
    "id": "2ae66b4a"
   },
   "outputs": [],
   "source": [
    "for j in range(1,20):\n",
    "    url = 'https://turbo.az/autos?page={}'.format(j)\n",
    "    page = requests.get(url)\n",
    "    soup = BeautifulSoup(page.content, 'html.parser')\n",
    "    cars = soup.select('.products a')\n",
    "    for i in cars:\n",
    "        lst.append(i['href'])\n",
    "\n",
    "\n",
    "for i in lst:\n",
    "    if i.startswith('/autos')==True and i.endswith('bookmarks')==False:\n",
    "        link_list.append(base_path+i)\n",
    "    "
   ]
  },
  {
   "cell_type": "markdown",
   "id": "b7c7c484",
   "metadata": {
    "id": "b7c7c484"
   },
   "source": [
    "After getting link adresses of cars now we can use our function to scrap the data"
   ]
  },
  {
   "cell_type": "code",
   "execution_count": 6,
   "id": "3ddfb53e",
   "metadata": {
    "id": "3ddfb53e"
   },
   "outputs": [],
   "source": [
    "for i in link_list:\n",
    "    try:\n",
    "        car_info_list.append(get_car_info(i))\n",
    "    except:\n",
    "        continue"
   ]
  },
  {
   "cell_type": "code",
   "execution_count": 3,
   "id": "70168cd6",
   "metadata": {
    "id": "70168cd6"
   },
   "outputs": [],
   "source": [
    "import json\n",
    "\n",
    "def save_data(title,data):\n",
    "    with open(title, 'w', encoding='utf-8') as f:\n",
    "        json.dump(data, f, ensure_ascii=False, indent=2)\n",
    "        \n",
    "        \n",
    "def load_data(title):\n",
    "    with open(title, encoding='utf-8') as f:\n",
    "        return json.load(f)"
   ]
  },
  {
   "cell_type": "markdown",
   "id": "07c32a16",
   "metadata": {
    "id": "07c32a16"
   },
   "source": [
    "\"save_data\" function helps us to save our data in a json file and \"load_data\" helps us to load data into jupyter notebook"
   ]
  },
  {
   "cell_type": "code",
   "execution_count": 9,
   "id": "b11adaa4",
   "metadata": {
    "id": "b11adaa4"
   },
   "outputs": [],
   "source": [
    "save_data('cars.json', car_info_list)"
   ]
  },
  {
   "cell_type": "code",
   "execution_count": 5,
   "id": "cf741806",
   "metadata": {
    "id": "cf741806"
   },
   "outputs": [],
   "source": [
    "cars = load_data('cars.json')"
   ]
  },
  {
   "cell_type": "code",
   "execution_count": 6,
   "id": "c6e0e622",
   "metadata": {
    "id": "c6e0e622"
   },
   "outputs": [],
   "source": [
    "car_data = pd.DataFrame(cars)"
   ]
  },
  {
   "cell_type": "code",
   "execution_count": 7,
   "id": "ee2457ed",
   "metadata": {
    "id": "ee2457ed",
    "outputId": "bb6de3f2-a6ce-4796-abc3-78897ccb5bde"
   },
   "outputs": [
    {
     "data": {
      "text/html": [
       "<div>\n",
       "<style scoped>\n",
       "    .dataframe tbody tr th:only-of-type {\n",
       "        vertical-align: middle;\n",
       "    }\n",
       "\n",
       "    .dataframe tbody tr th {\n",
       "        vertical-align: top;\n",
       "    }\n",
       "\n",
       "    .dataframe thead th {\n",
       "        text-align: right;\n",
       "    }\n",
       "</style>\n",
       "<table border=\"1\" class=\"dataframe\">\n",
       "  <thead>\n",
       "    <tr style=\"text-align: right;\">\n",
       "      <th></th>\n",
       "      <th>Şəhər</th>\n",
       "      <th>Marka</th>\n",
       "      <th>Model</th>\n",
       "      <th>Buraxılış ili</th>\n",
       "      <th>Ban növü</th>\n",
       "      <th>Rəng</th>\n",
       "      <th>Mühərrik</th>\n",
       "      <th>Mühərrikin gücü</th>\n",
       "      <th>Yanacaq növü</th>\n",
       "      <th>Yürüş</th>\n",
       "      <th>Sürətlər qutusu</th>\n",
       "      <th>Ötürücü</th>\n",
       "      <th>Yeni</th>\n",
       "      <th>Qiymət</th>\n",
       "    </tr>\n",
       "  </thead>\n",
       "  <tbody>\n",
       "    <tr>\n",
       "      <th>0</th>\n",
       "      <td>Sumqayıt</td>\n",
       "      <td>Hyundai</td>\n",
       "      <td>Sonata</td>\n",
       "      <td>2019</td>\n",
       "      <td>Sedan</td>\n",
       "      <td>Boz</td>\n",
       "      <td>1.6 L</td>\n",
       "      <td>200 a.g.</td>\n",
       "      <td>Benzin</td>\n",
       "      <td>16 000 km</td>\n",
       "      <td>Avtomat</td>\n",
       "      <td>Ön</td>\n",
       "      <td>Xeyr</td>\n",
       "      <td>30 500 $</td>\n",
       "    </tr>\n",
       "    <tr>\n",
       "      <th>1</th>\n",
       "      <td>Bakı</td>\n",
       "      <td>Volkswagen</td>\n",
       "      <td>Taos</td>\n",
       "      <td>2021</td>\n",
       "      <td>Offroader / SUV</td>\n",
       "      <td>Bej</td>\n",
       "      <td>1.4 L</td>\n",
       "      <td>150 a.g.</td>\n",
       "      <td>Benzin</td>\n",
       "      <td>0 km</td>\n",
       "      <td>Avtomat</td>\n",
       "      <td>Ön</td>\n",
       "      <td>Bəli</td>\n",
       "      <td>52 900 AZN</td>\n",
       "    </tr>\n",
       "    <tr>\n",
       "      <th>2</th>\n",
       "      <td>Bakı</td>\n",
       "      <td>Toyota</td>\n",
       "      <td>Land Cruiser</td>\n",
       "      <td>2021</td>\n",
       "      <td>Offroader / SUV</td>\n",
       "      <td>Qara</td>\n",
       "      <td>3.5 L</td>\n",
       "      <td>415 a.g.</td>\n",
       "      <td>Benzin</td>\n",
       "      <td>0 km</td>\n",
       "      <td>Avtomat</td>\n",
       "      <td>Tam</td>\n",
       "      <td>Bəli</td>\n",
       "      <td>119 600 $</td>\n",
       "    </tr>\n",
       "    <tr>\n",
       "      <th>3</th>\n",
       "      <td>Bakı</td>\n",
       "      <td>Ford</td>\n",
       "      <td>Fusion</td>\n",
       "      <td>2016</td>\n",
       "      <td>Sedan</td>\n",
       "      <td>Tünd qırmızı</td>\n",
       "      <td>1.5 L</td>\n",
       "      <td>151 a.g.</td>\n",
       "      <td>Benzin</td>\n",
       "      <td>34 500 km</td>\n",
       "      <td>Avtomat</td>\n",
       "      <td>Ön</td>\n",
       "      <td>Xeyr</td>\n",
       "      <td>22 800 AZN</td>\n",
       "    </tr>\n",
       "    <tr>\n",
       "      <th>4</th>\n",
       "      <td>Bakı</td>\n",
       "      <td>Opel</td>\n",
       "      <td>Astra</td>\n",
       "      <td>2008</td>\n",
       "      <td>Hetçbek / Liftbek</td>\n",
       "      <td>Gümüşü</td>\n",
       "      <td>1.3 L</td>\n",
       "      <td>90 a.g.</td>\n",
       "      <td>Dizel</td>\n",
       "      <td>175 110 km</td>\n",
       "      <td>Mexaniki</td>\n",
       "      <td>Ön</td>\n",
       "      <td>Xeyr</td>\n",
       "      <td>11 900 AZN</td>\n",
       "    </tr>\n",
       "  </tbody>\n",
       "</table>\n",
       "</div>"
      ],
      "text/plain": [
       "      Şəhər       Marka         Model Buraxılış ili           Ban növü  \\\n",
       "0  Sumqayıt     Hyundai        Sonata          2019              Sedan   \n",
       "1      Bakı  Volkswagen          Taos          2021    Offroader / SUV   \n",
       "2      Bakı      Toyota  Land Cruiser          2021    Offroader / SUV   \n",
       "3      Bakı        Ford        Fusion          2016              Sedan   \n",
       "4      Bakı        Opel         Astra          2008  Hetçbek / Liftbek   \n",
       "\n",
       "           Rəng Mühərrik Mühərrikin gücü Yanacaq növü       Yürüş  \\\n",
       "0           Boz    1.6 L        200 a.g.       Benzin   16 000 km   \n",
       "1           Bej    1.4 L        150 a.g.       Benzin        0 km   \n",
       "2          Qara    3.5 L        415 a.g.       Benzin        0 km   \n",
       "3  Tünd qırmızı    1.5 L        151 a.g.       Benzin   34 500 km   \n",
       "4        Gümüşü    1.3 L         90 a.g.        Dizel  175 110 km   \n",
       "\n",
       "  Sürətlər qutusu Ötürücü  Yeni      Qiymət  \n",
       "0         Avtomat      Ön  Xeyr    30 500 $  \n",
       "1         Avtomat      Ön  Bəli  52 900 AZN  \n",
       "2         Avtomat     Tam  Bəli   119 600 $  \n",
       "3         Avtomat      Ön  Xeyr  22 800 AZN  \n",
       "4        Mexaniki      Ön  Xeyr  11 900 AZN  "
      ]
     },
     "execution_count": 7,
     "metadata": {},
     "output_type": "execute_result"
    }
   ],
   "source": [
    "car_data.head()"
   ]
  },
  {
   "cell_type": "markdown",
   "id": "20e13b2b",
   "metadata": {
    "id": "20e13b2b"
   },
   "source": [
    "### Exploratory data analysis\n",
    "\n",
    "1. Identify the trends in the sales of cars and car industry in Azerbaijan in general.\n",
    "\n",
    "2. Correlation between price and condition, which is then further extended by year, current location of car, number of cylinders in the vehicle and vehicle mileage."
   ]
  },
  {
   "cell_type": "code",
   "execution_count": 8,
   "id": "8cf52f92",
   "metadata": {
    "id": "8cf52f92",
    "outputId": "d13420b2-668c-42d2-8be5-e4b9186c7900"
   },
   "outputs": [
    {
     "data": {
      "text/plain": [
       "Şəhər              object\n",
       "Marka              object\n",
       "Model              object\n",
       "Buraxılış ili      object\n",
       "Ban növü           object\n",
       "Rəng               object\n",
       "Mühərrik           object\n",
       "Mühərrikin gücü    object\n",
       "Yanacaq növü       object\n",
       "Yürüş              object\n",
       "Sürətlər qutusu    object\n",
       "Ötürücü            object\n",
       "Yeni               object\n",
       "Qiymət             object\n",
       "dtype: object"
      ]
     },
     "execution_count": 8,
     "metadata": {},
     "output_type": "execute_result"
    }
   ],
   "source": [
    "car_data.dtypes"
   ]
  },
  {
   "cell_type": "markdown",
   "id": "d44b41d9",
   "metadata": {
    "id": "d44b41d9"
   },
   "source": [
    "#### Data Cleaning"
   ]
  },
  {
   "cell_type": "markdown",
   "id": "0844cac1",
   "metadata": {
    "id": "0844cac1"
   },
   "source": [
    "We see that some columns don't have correct types. We have to do data cleaning."
   ]
  },
  {
   "cell_type": "code",
   "execution_count": 9,
   "id": "c397d18d",
   "metadata": {
    "id": "c397d18d"
   },
   "outputs": [],
   "source": [
    "car_data['Buraxılış ili'] = car_data['Buraxılış ili'].astype(int)"
   ]
  },
  {
   "cell_type": "markdown",
   "id": "6c165627",
   "metadata": {
    "id": "6c165627"
   },
   "source": [
    "In our price column, some prices is showed in Azerbaijan manat and others in US dollars. We are going to convert all of them into AZN, and change its dtype to float."
   ]
  },
  {
   "cell_type": "code",
   "execution_count": 10,
   "id": "ca1280fd",
   "metadata": {
    "id": "ca1280fd"
   },
   "outputs": [],
   "source": [
    "car_data['Qiymət'] = car_data['Qiymət'].str.replace(' ','').astype(str)\n",
    "x = car_data[car_data['Qiymət'].str.contains('AZN')==False]['Qiymət'].str[:-1].astype(int)*1.70\n",
    "y = car_data[car_data['Qiymət'].str.contains('AZN')]['Qiymət'].str[:-3].astype(int)\n",
    "car_data['Price'] = pd.concat([x,y])\n",
    "car_data.drop('Qiymət', axis=1, inplace=True)"
   ]
  },
  {
   "cell_type": "markdown",
   "id": "185d0728",
   "metadata": {
    "id": "185d0728"
   },
   "source": [
    "If we substract produced date of the car from today's date, we can find car's age "
   ]
  },
  {
   "cell_type": "code",
   "execution_count": 11,
   "id": "e605fde0",
   "metadata": {
    "id": "e605fde0"
   },
   "outputs": [],
   "source": [
    "car_data['Age'] = pd.datetime.today().year - car_data['Buraxılış ili']"
   ]
  },
  {
   "cell_type": "code",
   "execution_count": 12,
   "id": "e2901122",
   "metadata": {
    "id": "e2901122"
   },
   "outputs": [],
   "source": [
    "car_data['Mühərrikin gücü'] = car_data['Mühərrikin gücü'].str.replace('a.g.','').str.strip().astype(int)"
   ]
  },
  {
   "cell_type": "code",
   "execution_count": 13,
   "id": "9d3380d8",
   "metadata": {
    "id": "9d3380d8"
   },
   "outputs": [],
   "source": [
    "car_data['Mühərrik'] = car_data['Mühərrik'].str.replace('L','').str.strip().astype(float)"
   ]
  },
  {
   "cell_type": "code",
   "execution_count": 14,
   "id": "e3fcd005",
   "metadata": {
    "id": "e3fcd005"
   },
   "outputs": [],
   "source": [
    "car_data['Yürüş'] = car_data['Yürüş'].str.replace('km','').str.replace(' ','').astype(int)"
   ]
  },
  {
   "cell_type": "code",
   "execution_count": 15,
   "id": "aec55d45",
   "metadata": {
    "id": "aec55d45",
    "outputId": "91ed4cc9-e633-4f09-d515-eb41b903a40e"
   },
   "outputs": [
    {
     "data": {
      "text/html": [
       "<div>\n",
       "<style scoped>\n",
       "    .dataframe tbody tr th:only-of-type {\n",
       "        vertical-align: middle;\n",
       "    }\n",
       "\n",
       "    .dataframe tbody tr th {\n",
       "        vertical-align: top;\n",
       "    }\n",
       "\n",
       "    .dataframe thead th {\n",
       "        text-align: right;\n",
       "    }\n",
       "</style>\n",
       "<table border=\"1\" class=\"dataframe\">\n",
       "  <thead>\n",
       "    <tr style=\"text-align: right;\">\n",
       "      <th></th>\n",
       "      <th>Şəhər</th>\n",
       "      <th>Marka</th>\n",
       "      <th>Model</th>\n",
       "      <th>Buraxılış ili</th>\n",
       "      <th>Ban növü</th>\n",
       "      <th>Rəng</th>\n",
       "      <th>Mühərrik</th>\n",
       "      <th>Mühərrikin gücü</th>\n",
       "      <th>Yanacaq növü</th>\n",
       "      <th>Yürüş</th>\n",
       "      <th>Sürətlər qutusu</th>\n",
       "      <th>Ötürücü</th>\n",
       "      <th>Yeni</th>\n",
       "      <th>Price</th>\n",
       "      <th>Age</th>\n",
       "    </tr>\n",
       "  </thead>\n",
       "  <tbody>\n",
       "    <tr>\n",
       "      <th>0</th>\n",
       "      <td>Sumqayıt</td>\n",
       "      <td>Hyundai</td>\n",
       "      <td>Sonata</td>\n",
       "      <td>2019</td>\n",
       "      <td>Sedan</td>\n",
       "      <td>Boz</td>\n",
       "      <td>1.6</td>\n",
       "      <td>200</td>\n",
       "      <td>Benzin</td>\n",
       "      <td>16000</td>\n",
       "      <td>Avtomat</td>\n",
       "      <td>Ön</td>\n",
       "      <td>Xeyr</td>\n",
       "      <td>51850.0</td>\n",
       "      <td>2</td>\n",
       "    </tr>\n",
       "    <tr>\n",
       "      <th>1</th>\n",
       "      <td>Bakı</td>\n",
       "      <td>Volkswagen</td>\n",
       "      <td>Taos</td>\n",
       "      <td>2021</td>\n",
       "      <td>Offroader / SUV</td>\n",
       "      <td>Bej</td>\n",
       "      <td>1.4</td>\n",
       "      <td>150</td>\n",
       "      <td>Benzin</td>\n",
       "      <td>0</td>\n",
       "      <td>Avtomat</td>\n",
       "      <td>Ön</td>\n",
       "      <td>Bəli</td>\n",
       "      <td>52900.0</td>\n",
       "      <td>0</td>\n",
       "    </tr>\n",
       "    <tr>\n",
       "      <th>2</th>\n",
       "      <td>Bakı</td>\n",
       "      <td>Toyota</td>\n",
       "      <td>Land Cruiser</td>\n",
       "      <td>2021</td>\n",
       "      <td>Offroader / SUV</td>\n",
       "      <td>Qara</td>\n",
       "      <td>3.5</td>\n",
       "      <td>415</td>\n",
       "      <td>Benzin</td>\n",
       "      <td>0</td>\n",
       "      <td>Avtomat</td>\n",
       "      <td>Tam</td>\n",
       "      <td>Bəli</td>\n",
       "      <td>203320.0</td>\n",
       "      <td>0</td>\n",
       "    </tr>\n",
       "    <tr>\n",
       "      <th>3</th>\n",
       "      <td>Bakı</td>\n",
       "      <td>Ford</td>\n",
       "      <td>Fusion</td>\n",
       "      <td>2016</td>\n",
       "      <td>Sedan</td>\n",
       "      <td>Tünd qırmızı</td>\n",
       "      <td>1.5</td>\n",
       "      <td>151</td>\n",
       "      <td>Benzin</td>\n",
       "      <td>34500</td>\n",
       "      <td>Avtomat</td>\n",
       "      <td>Ön</td>\n",
       "      <td>Xeyr</td>\n",
       "      <td>22800.0</td>\n",
       "      <td>5</td>\n",
       "    </tr>\n",
       "    <tr>\n",
       "      <th>4</th>\n",
       "      <td>Bakı</td>\n",
       "      <td>Opel</td>\n",
       "      <td>Astra</td>\n",
       "      <td>2008</td>\n",
       "      <td>Hetçbek / Liftbek</td>\n",
       "      <td>Gümüşü</td>\n",
       "      <td>1.3</td>\n",
       "      <td>90</td>\n",
       "      <td>Dizel</td>\n",
       "      <td>175110</td>\n",
       "      <td>Mexaniki</td>\n",
       "      <td>Ön</td>\n",
       "      <td>Xeyr</td>\n",
       "      <td>11900.0</td>\n",
       "      <td>13</td>\n",
       "    </tr>\n",
       "  </tbody>\n",
       "</table>\n",
       "</div>"
      ],
      "text/plain": [
       "      Şəhər       Marka         Model  Buraxılış ili           Ban növü  \\\n",
       "0  Sumqayıt     Hyundai        Sonata           2019              Sedan   \n",
       "1      Bakı  Volkswagen          Taos           2021    Offroader / SUV   \n",
       "2      Bakı      Toyota  Land Cruiser           2021    Offroader / SUV   \n",
       "3      Bakı        Ford        Fusion           2016              Sedan   \n",
       "4      Bakı        Opel         Astra           2008  Hetçbek / Liftbek   \n",
       "\n",
       "           Rəng  Mühərrik  Mühərrikin gücü Yanacaq növü   Yürüş  \\\n",
       "0           Boz       1.6              200       Benzin   16000   \n",
       "1           Bej       1.4              150       Benzin       0   \n",
       "2          Qara       3.5              415       Benzin       0   \n",
       "3  Tünd qırmızı       1.5              151       Benzin   34500   \n",
       "4        Gümüşü       1.3               90        Dizel  175110   \n",
       "\n",
       "  Sürətlər qutusu Ötürücü  Yeni     Price  Age  \n",
       "0         Avtomat      Ön  Xeyr   51850.0    2  \n",
       "1         Avtomat      Ön  Bəli   52900.0    0  \n",
       "2         Avtomat     Tam  Bəli  203320.0    0  \n",
       "3         Avtomat      Ön  Xeyr   22800.0    5  \n",
       "4        Mexaniki      Ön  Xeyr   11900.0   13  "
      ]
     },
     "execution_count": 15,
     "metadata": {},
     "output_type": "execute_result"
    }
   ],
   "source": [
    "car_data.head()"
   ]
  },
  {
   "cell_type": "markdown",
   "id": "20e18605",
   "metadata": {},
   "source": [
    "#### Sale trends in different regions of Azerbaijan:"
   ]
  },
  {
   "cell_type": "code",
   "execution_count": 16,
   "id": "eec4923d",
   "metadata": {},
   "outputs": [
    {
     "data": {
      "image/png": "[encoded data removed]",
      "text/plain": [
       "<Figure size 432x288 with 1 Axes>"
      ]
     },
     "metadata": {
      "needs_background": "light"
     },
     "output_type": "display_data"
    }
   ],
   "source": [
    "import seaborn as sns\n",
    "import matplotlib.pyplot as plt\n",
    " \n",
    "sns.barplot(x = 'Şəhər',\n",
    "            y = 'Price',\n",
    "            data = car_data)\n",
    "\n",
    "plt.xticks(rotation=90)\n",
    "plt.show()"
   ]
  },
  {
   "cell_type": "code",
   "execution_count": 17,
   "id": "46f42513",
   "metadata": {},
   "outputs": [
    {
     "data": {
      "text/html": [
       "<div>\n",
       "<style scoped>\n",
       "    .dataframe tbody tr th:only-of-type {\n",
       "        vertical-align: middle;\n",
       "    }\n",
       "\n",
       "    .dataframe tbody tr th {\n",
       "        vertical-align: top;\n",
       "    }\n",
       "\n",
       "    .dataframe thead th {\n",
       "        text-align: right;\n",
       "    }\n",
       "</style>\n",
       "<table border=\"1\" class=\"dataframe\">\n",
       "  <thead>\n",
       "    <tr style=\"text-align: right;\">\n",
       "      <th></th>\n",
       "      <th>Marka</th>\n",
       "    </tr>\n",
       "    <tr>\n",
       "      <th>Şəhər</th>\n",
       "      <th></th>\n",
       "    </tr>\n",
       "  </thead>\n",
       "  <tbody>\n",
       "    <tr>\n",
       "      <th>Ağcabədi</th>\n",
       "      <td>1</td>\n",
       "    </tr>\n",
       "    <tr>\n",
       "      <th>Ağdaş</th>\n",
       "      <td>1</td>\n",
       "    </tr>\n",
       "    <tr>\n",
       "      <th>Ağstafa</th>\n",
       "      <td>1</td>\n",
       "    </tr>\n",
       "    <tr>\n",
       "      <th>Bakı</th>\n",
       "      <td>560</td>\n",
       "    </tr>\n",
       "    <tr>\n",
       "      <th>Biləsuvar</th>\n",
       "      <td>2</td>\n",
       "    </tr>\n",
       "    <tr>\n",
       "      <th>Bərdə</th>\n",
       "      <td>2</td>\n",
       "    </tr>\n",
       "    <tr>\n",
       "      <th>Füzuli</th>\n",
       "      <td>1</td>\n",
       "    </tr>\n",
       "    <tr>\n",
       "      <th>Goranboy</th>\n",
       "      <td>1</td>\n",
       "    </tr>\n",
       "    <tr>\n",
       "      <th>Gəncə</th>\n",
       "      <td>8</td>\n",
       "    </tr>\n",
       "    <tr>\n",
       "      <th>Lənkəran</th>\n",
       "      <td>2</td>\n",
       "    </tr>\n",
       "    <tr>\n",
       "      <th>Masallı</th>\n",
       "      <td>2</td>\n",
       "    </tr>\n",
       "    <tr>\n",
       "      <th>Mingəçevir</th>\n",
       "      <td>2</td>\n",
       "    </tr>\n",
       "    <tr>\n",
       "      <th>Neftçala</th>\n",
       "      <td>1</td>\n",
       "    </tr>\n",
       "    <tr>\n",
       "      <th>Oğuz</th>\n",
       "      <td>1</td>\n",
       "    </tr>\n",
       "    <tr>\n",
       "      <th>Quba</th>\n",
       "      <td>1</td>\n",
       "    </tr>\n",
       "    <tr>\n",
       "      <th>Samux</th>\n",
       "      <td>1</td>\n",
       "    </tr>\n",
       "    <tr>\n",
       "      <th>Sumqayıt</th>\n",
       "      <td>82</td>\n",
       "    </tr>\n",
       "    <tr>\n",
       "      <th>Tərtər</th>\n",
       "      <td>1</td>\n",
       "    </tr>\n",
       "    <tr>\n",
       "      <th>Xaçmaz</th>\n",
       "      <td>2</td>\n",
       "    </tr>\n",
       "    <tr>\n",
       "      <th>Xırdalan</th>\n",
       "      <td>5</td>\n",
       "    </tr>\n",
       "    <tr>\n",
       "      <th>Zaqatala</th>\n",
       "      <td>1</td>\n",
       "    </tr>\n",
       "    <tr>\n",
       "      <th>İsmayıllı</th>\n",
       "      <td>1</td>\n",
       "    </tr>\n",
       "    <tr>\n",
       "      <th>Şirvan</th>\n",
       "      <td>3</td>\n",
       "    </tr>\n",
       "    <tr>\n",
       "      <th>Şəki</th>\n",
       "      <td>1</td>\n",
       "    </tr>\n",
       "    <tr>\n",
       "      <th>Şəmkir</th>\n",
       "      <td>1</td>\n",
       "    </tr>\n",
       "  </tbody>\n",
       "</table>\n",
       "</div>"
      ],
      "text/plain": [
       "            Marka\n",
       "Şəhər            \n",
       "Ağcabədi        1\n",
       "Ağdaş           1\n",
       "Ağstafa         1\n",
       "Bakı          560\n",
       "Biləsuvar       2\n",
       "Bərdə           2\n",
       "Füzuli          1\n",
       "Goranboy        1\n",
       "Gəncə           8\n",
       "Lənkəran        2\n",
       "Masallı         2\n",
       "Mingəçevir      2\n",
       "Neftçala        1\n",
       "Oğuz            1\n",
       "Quba            1\n",
       "Samux           1\n",
       "Sumqayıt       82\n",
       "Tərtər          1\n",
       "Xaçmaz          2\n",
       "Xırdalan        5\n",
       "Zaqatala        1\n",
       "İsmayıllı       1\n",
       "Şirvan          3\n",
       "Şəki            1\n",
       "Şəmkir          1"
      ]
     },
     "execution_count": 17,
     "metadata": {},
     "output_type": "execute_result"
    }
   ],
   "source": [
    "count_df = car_data.groupby('Şəhər').count()[['Marka']]\n",
    "count_df"
   ]
  },
  {
   "cell_type": "code",
   "execution_count": 18,
   "id": "f5dadc4c",
   "metadata": {},
   "outputs": [
    {
     "data": {
      "image/png": "[encoded data removed]",
      "text/plain": [
       "<Figure size 432x288 with 1 Axes>"
      ]
     },
     "metadata": {
      "needs_background": "light"
     },
     "output_type": "display_data"
    }
   ],
   "source": [
    "values = list(count_df['Marka'])\n",
    "labels = list(count_df.index)\n",
    "plt.title(label='Number of cars by region', fontsize=15)\n",
    "sns.barplot(labels,values)\n",
    "plt.xticks(rotation=90)\n",
    "plt.show()"
   ]
  },
  {
   "cell_type": "code",
   "execution_count": 19,
   "id": "7136935b",
   "metadata": {
    "scrolled": true
   },
   "outputs": [
    {
     "data": {
      "text/html": [
       "<div>\n",
       "<style scoped>\n",
       "    .dataframe tbody tr th:only-of-type {\n",
       "        vertical-align: middle;\n",
       "    }\n",
       "\n",
       "    .dataframe tbody tr th {\n",
       "        vertical-align: top;\n",
       "    }\n",
       "\n",
       "    .dataframe thead th {\n",
       "        text-align: right;\n",
       "    }\n",
       "</style>\n",
       "<table border=\"1\" class=\"dataframe\">\n",
       "  <thead>\n",
       "    <tr style=\"text-align: right;\">\n",
       "      <th></th>\n",
       "      <th>Price</th>\n",
       "    </tr>\n",
       "    <tr>\n",
       "      <th>Şəhər</th>\n",
       "      <th></th>\n",
       "    </tr>\n",
       "  </thead>\n",
       "  <tbody>\n",
       "    <tr>\n",
       "      <th>Ağcabədi</th>\n",
       "      <td>12600.000000</td>\n",
       "    </tr>\n",
       "    <tr>\n",
       "      <th>Ağdaş</th>\n",
       "      <td>10300.000000</td>\n",
       "    </tr>\n",
       "    <tr>\n",
       "      <th>Ağstafa</th>\n",
       "      <td>15550.000000</td>\n",
       "    </tr>\n",
       "    <tr>\n",
       "      <th>Bakı</th>\n",
       "      <td>49755.169643</td>\n",
       "    </tr>\n",
       "    <tr>\n",
       "      <th>Biləsuvar</th>\n",
       "      <td>4200.000000</td>\n",
       "    </tr>\n",
       "    <tr>\n",
       "      <th>Bərdə</th>\n",
       "      <td>18650.000000</td>\n",
       "    </tr>\n",
       "    <tr>\n",
       "      <th>Füzuli</th>\n",
       "      <td>10500.000000</td>\n",
       "    </tr>\n",
       "    <tr>\n",
       "      <th>Goranboy</th>\n",
       "      <td>14700.000000</td>\n",
       "    </tr>\n",
       "    <tr>\n",
       "      <th>Gəncə</th>\n",
       "      <td>27583.750000</td>\n",
       "    </tr>\n",
       "    <tr>\n",
       "      <th>Lənkəran</th>\n",
       "      <td>11475.000000</td>\n",
       "    </tr>\n",
       "    <tr>\n",
       "      <th>Masallı</th>\n",
       "      <td>22750.000000</td>\n",
       "    </tr>\n",
       "    <tr>\n",
       "      <th>Mingəçevir</th>\n",
       "      <td>6600.000000</td>\n",
       "    </tr>\n",
       "    <tr>\n",
       "      <th>Neftçala</th>\n",
       "      <td>3400.000000</td>\n",
       "    </tr>\n",
       "    <tr>\n",
       "      <th>Oğuz</th>\n",
       "      <td>3000.000000</td>\n",
       "    </tr>\n",
       "    <tr>\n",
       "      <th>Quba</th>\n",
       "      <td>7200.000000</td>\n",
       "    </tr>\n",
       "    <tr>\n",
       "      <th>Samux</th>\n",
       "      <td>3100.000000</td>\n",
       "    </tr>\n",
       "    <tr>\n",
       "      <th>Sumqayıt</th>\n",
       "      <td>20003.536585</td>\n",
       "    </tr>\n",
       "    <tr>\n",
       "      <th>Tərtər</th>\n",
       "      <td>19500.000000</td>\n",
       "    </tr>\n",
       "    <tr>\n",
       "      <th>Xaçmaz</th>\n",
       "      <td>13900.000000</td>\n",
       "    </tr>\n",
       "    <tr>\n",
       "      <th>Xırdalan</th>\n",
       "      <td>11760.000000</td>\n",
       "    </tr>\n",
       "    <tr>\n",
       "      <th>Zaqatala</th>\n",
       "      <td>28000.000000</td>\n",
       "    </tr>\n",
       "    <tr>\n",
       "      <th>İsmayıllı</th>\n",
       "      <td>22000.000000</td>\n",
       "    </tr>\n",
       "    <tr>\n",
       "      <th>Şirvan</th>\n",
       "      <td>8933.333333</td>\n",
       "    </tr>\n",
       "    <tr>\n",
       "      <th>Şəki</th>\n",
       "      <td>7000.000000</td>\n",
       "    </tr>\n",
       "    <tr>\n",
       "      <th>Şəmkir</th>\n",
       "      <td>28500.000000</td>\n",
       "    </tr>\n",
       "  </tbody>\n",
       "</table>\n",
       "</div>"
      ],
      "text/plain": [
       "                   Price\n",
       "Şəhər                   \n",
       "Ağcabədi    12600.000000\n",
       "Ağdaş       10300.000000\n",
       "Ağstafa     15550.000000\n",
       "Bakı        49755.169643\n",
       "Biləsuvar    4200.000000\n",
       "Bərdə       18650.000000\n",
       "Füzuli      10500.000000\n",
       "Goranboy    14700.000000\n",
       "Gəncə       27583.750000\n",
       "Lənkəran    11475.000000\n",
       "Masallı     22750.000000\n",
       "Mingəçevir   6600.000000\n",
       "Neftçala     3400.000000\n",
       "Oğuz         3000.000000\n",
       "Quba         7200.000000\n",
       "Samux        3100.000000\n",
       "Sumqayıt    20003.536585\n",
       "Tərtər      19500.000000\n",
       "Xaçmaz      13900.000000\n",
       "Xırdalan    11760.000000\n",
       "Zaqatala    28000.000000\n",
       "İsmayıllı   22000.000000\n",
       "Şirvan       8933.333333\n",
       "Şəki         7000.000000\n",
       "Şəmkir      28500.000000"
      ]
     },
     "execution_count": 19,
     "metadata": {},
     "output_type": "execute_result"
    }
   ],
   "source": [
    "average_df = car_data.groupby('Şəhər').mean()[['Price']]\n",
    "average_df"
   ]
  },
  {
   "cell_type": "code",
   "execution_count": 20,
   "id": "cd07b21a",
   "metadata": {},
   "outputs": [
    {
     "data": {
      "image/png": "[encoded data removed]",
      "text/plain": [
       "<Figure size 432x288 with 1 Axes>"
      ]
     },
     "metadata": {
      "needs_background": "light"
     },
     "output_type": "display_data"
    }
   ],
   "source": [
    "values = list(average_df['Price'])\n",
    "labels = list(average_df.index)\n",
    "plt.title(label='Average price by region', fontsize=15)\n",
    "sns.barplot(labels,values)\n",
    "plt.xticks(rotation=90)\n",
    "plt.show()"
   ]
  },
  {
   "cell_type": "markdown",
   "id": "ea86ca96",
   "metadata": {},
   "source": [
    "#### Market Share of different car manufacturers:"
   ]
  },
  {
   "cell_type": "code",
   "execution_count": 21,
   "id": "25886a62",
   "metadata": {},
   "outputs": [
    {
     "data": {
      "text/html": [
       "<div>\n",
       "<style scoped>\n",
       "    .dataframe tbody tr th:only-of-type {\n",
       "        vertical-align: middle;\n",
       "    }\n",
       "\n",
       "    .dataframe tbody tr th {\n",
       "        vertical-align: top;\n",
       "    }\n",
       "\n",
       "    .dataframe thead th {\n",
       "        text-align: right;\n",
       "    }\n",
       "</style>\n",
       "<table border=\"1\" class=\"dataframe\">\n",
       "  <thead>\n",
       "    <tr style=\"text-align: right;\">\n",
       "      <th></th>\n",
       "      <th>Model</th>\n",
       "    </tr>\n",
       "    <tr>\n",
       "      <th>Marka</th>\n",
       "      <th></th>\n",
       "    </tr>\n",
       "  </thead>\n",
       "  <tbody>\n",
       "    <tr>\n",
       "      <th>Audi</th>\n",
       "      <td>11</td>\n",
       "    </tr>\n",
       "    <tr>\n",
       "      <th>BMW</th>\n",
       "      <td>49</td>\n",
       "    </tr>\n",
       "    <tr>\n",
       "      <th>Baic</th>\n",
       "      <td>1</td>\n",
       "    </tr>\n",
       "    <tr>\n",
       "      <th>Benelli</th>\n",
       "      <td>1</td>\n",
       "    </tr>\n",
       "    <tr>\n",
       "      <th>Cadillac</th>\n",
       "      <td>1</td>\n",
       "    </tr>\n",
       "    <tr>\n",
       "      <th>Changan</th>\n",
       "      <td>1</td>\n",
       "    </tr>\n",
       "    <tr>\n",
       "      <th>Chevrolet</th>\n",
       "      <td>58</td>\n",
       "    </tr>\n",
       "    <tr>\n",
       "      <th>Chrysler</th>\n",
       "      <td>2</td>\n",
       "    </tr>\n",
       "    <tr>\n",
       "      <th>Daewoo</th>\n",
       "      <td>1</td>\n",
       "    </tr>\n",
       "    <tr>\n",
       "      <th>FAW</th>\n",
       "      <td>1</td>\n",
       "    </tr>\n",
       "    <tr>\n",
       "      <th>Fiat</th>\n",
       "      <td>5</td>\n",
       "    </tr>\n",
       "    <tr>\n",
       "      <th>Ford</th>\n",
       "      <td>35</td>\n",
       "    </tr>\n",
       "    <tr>\n",
       "      <th>GAC</th>\n",
       "      <td>1</td>\n",
       "    </tr>\n",
       "    <tr>\n",
       "      <th>GAZ</th>\n",
       "      <td>4</td>\n",
       "    </tr>\n",
       "    <tr>\n",
       "      <th>Geely</th>\n",
       "      <td>1</td>\n",
       "    </tr>\n",
       "    <tr>\n",
       "      <th>Great Wall</th>\n",
       "      <td>1</td>\n",
       "    </tr>\n",
       "    <tr>\n",
       "      <th>Haval</th>\n",
       "      <td>1</td>\n",
       "    </tr>\n",
       "    <tr>\n",
       "      <th>Honda</th>\n",
       "      <td>4</td>\n",
       "    </tr>\n",
       "    <tr>\n",
       "      <th>Hyundai</th>\n",
       "      <td>81</td>\n",
       "    </tr>\n",
       "    <tr>\n",
       "      <th>Infiniti</th>\n",
       "      <td>1</td>\n",
       "    </tr>\n",
       "    <tr>\n",
       "      <th>Jeep</th>\n",
       "      <td>2</td>\n",
       "    </tr>\n",
       "    <tr>\n",
       "      <th>Keeway</th>\n",
       "      <td>1</td>\n",
       "    </tr>\n",
       "    <tr>\n",
       "      <th>Khazar</th>\n",
       "      <td>1</td>\n",
       "    </tr>\n",
       "    <tr>\n",
       "      <th>Kia</th>\n",
       "      <td>41</td>\n",
       "    </tr>\n",
       "    <tr>\n",
       "      <th>LADA (VAZ)</th>\n",
       "      <td>29</td>\n",
       "    </tr>\n",
       "    <tr>\n",
       "      <th>Land Rover</th>\n",
       "      <td>29</td>\n",
       "    </tr>\n",
       "    <tr>\n",
       "      <th>Lexus</th>\n",
       "      <td>15</td>\n",
       "    </tr>\n",
       "    <tr>\n",
       "      <th>Maserati</th>\n",
       "      <td>1</td>\n",
       "    </tr>\n",
       "    <tr>\n",
       "      <th>Mazda</th>\n",
       "      <td>1</td>\n",
       "    </tr>\n",
       "    <tr>\n",
       "      <th>Mercedes</th>\n",
       "      <td>121</td>\n",
       "    </tr>\n",
       "    <tr>\n",
       "      <th>Mini</th>\n",
       "      <td>2</td>\n",
       "    </tr>\n",
       "    <tr>\n",
       "      <th>Mitsubishi</th>\n",
       "      <td>15</td>\n",
       "    </tr>\n",
       "    <tr>\n",
       "      <th>Nissan</th>\n",
       "      <td>17</td>\n",
       "    </tr>\n",
       "    <tr>\n",
       "      <th>Opel</th>\n",
       "      <td>29</td>\n",
       "    </tr>\n",
       "    <tr>\n",
       "      <th>Porsche</th>\n",
       "      <td>5</td>\n",
       "    </tr>\n",
       "    <tr>\n",
       "      <th>Renault</th>\n",
       "      <td>4</td>\n",
       "    </tr>\n",
       "    <tr>\n",
       "      <th>SEAT</th>\n",
       "      <td>1</td>\n",
       "    </tr>\n",
       "    <tr>\n",
       "      <th>SYM</th>\n",
       "      <td>1</td>\n",
       "    </tr>\n",
       "    <tr>\n",
       "      <th>Saipa</th>\n",
       "      <td>1</td>\n",
       "    </tr>\n",
       "    <tr>\n",
       "      <th>Suzuki</th>\n",
       "      <td>2</td>\n",
       "    </tr>\n",
       "    <tr>\n",
       "      <th>Toyota</th>\n",
       "      <td>89</td>\n",
       "    </tr>\n",
       "    <tr>\n",
       "      <th>Volkswagen</th>\n",
       "      <td>16</td>\n",
       "    </tr>\n",
       "    <tr>\n",
       "      <th>Volvo</th>\n",
       "      <td>1</td>\n",
       "    </tr>\n",
       "  </tbody>\n",
       "</table>\n",
       "</div>"
      ],
      "text/plain": [
       "            Model\n",
       "Marka            \n",
       "Audi           11\n",
       "BMW            49\n",
       "Baic            1\n",
       "Benelli         1\n",
       "Cadillac        1\n",
       "Changan         1\n",
       "Chevrolet      58\n",
       "Chrysler        2\n",
       "Daewoo          1\n",
       "FAW             1\n",
       "Fiat            5\n",
       "Ford           35\n",
       "GAC             1\n",
       "GAZ             4\n",
       "Geely           1\n",
       "Great Wall      1\n",
       "Haval           1\n",
       "Honda           4\n",
       "Hyundai        81\n",
       "Infiniti        1\n",
       "Jeep            2\n",
       "Keeway          1\n",
       "Khazar          1\n",
       "Kia            41\n",
       "LADA (VAZ)     29\n",
       "Land Rover     29\n",
       "Lexus          15\n",
       "Maserati        1\n",
       "Mazda           1\n",
       "Mercedes      121\n",
       "Mini            2\n",
       "Mitsubishi     15\n",
       "Nissan         17\n",
       "Opel           29\n",
       "Porsche         5\n",
       "Renault         4\n",
       "SEAT            1\n",
       "SYM             1\n",
       "Saipa           1\n",
       "Suzuki          2\n",
       "Toyota         89\n",
       "Volkswagen     16\n",
       "Volvo           1"
      ]
     },
     "execution_count": 21,
     "metadata": {},
     "output_type": "execute_result"
    }
   ],
   "source": [
    "marka_count_df = car_data.groupby('Marka').agg({'Model':'count'})\n",
    "marka_count_df"
   ]
  },
  {
   "cell_type": "code",
   "execution_count": 22,
   "id": "de8e99e2",
   "metadata": {
    "id": "de8e99e2"
   },
   "outputs": [
    {
     "data": {
      "image/png": "[encoded data removed]",
      "text/plain": [
       "<Figure size 1080x360 with 1 Axes>"
      ]
     },
     "metadata": {
      "needs_background": "light"
     },
     "output_type": "display_data"
    }
   ],
   "source": [
    "f, ax = plt.subplots(figsize=(15,5)) \n",
    "sns.barplot(x = marka_count_df.index,\n",
    "            y = 'Model',\n",
    "            data = marka_count_df)\n",
    "\n",
    "plt.ylabel('count')\n",
    "plt.xticks(rotation=90)\n",
    "plt.show()"
   ]
  },
  {
   "cell_type": "code",
   "execution_count": 23,
   "id": "20da088e",
   "metadata": {
    "id": "20da088e"
   },
   "outputs": [
    {
     "data": {
      "text/html": [
       "<div>\n",
       "<style scoped>\n",
       "    .dataframe tbody tr th:only-of-type {\n",
       "        vertical-align: middle;\n",
       "    }\n",
       "\n",
       "    .dataframe tbody tr th {\n",
       "        vertical-align: top;\n",
       "    }\n",
       "\n",
       "    .dataframe thead th {\n",
       "        text-align: right;\n",
       "    }\n",
       "</style>\n",
       "<table border=\"1\" class=\"dataframe\">\n",
       "  <thead>\n",
       "    <tr style=\"text-align: right;\">\n",
       "      <th></th>\n",
       "      <th>Price</th>\n",
       "    </tr>\n",
       "    <tr>\n",
       "      <th>Marka</th>\n",
       "      <th></th>\n",
       "    </tr>\n",
       "  </thead>\n",
       "  <tbody>\n",
       "    <tr>\n",
       "      <th>Audi</th>\n",
       "      <td>54512.727273</td>\n",
       "    </tr>\n",
       "    <tr>\n",
       "      <th>BMW</th>\n",
       "      <td>73837.142857</td>\n",
       "    </tr>\n",
       "    <tr>\n",
       "      <th>Baic</th>\n",
       "      <td>28800.000000</td>\n",
       "    </tr>\n",
       "    <tr>\n",
       "      <th>Benelli</th>\n",
       "      <td>5500.000000</td>\n",
       "    </tr>\n",
       "    <tr>\n",
       "      <th>Cadillac</th>\n",
       "      <td>112200.000000</td>\n",
       "    </tr>\n",
       "    <tr>\n",
       "      <th>Changan</th>\n",
       "      <td>20500.000000</td>\n",
       "    </tr>\n",
       "    <tr>\n",
       "      <th>Chevrolet</th>\n",
       "      <td>20089.051724</td>\n",
       "    </tr>\n",
       "    <tr>\n",
       "      <th>Chrysler</th>\n",
       "      <td>9400.000000</td>\n",
       "    </tr>\n",
       "    <tr>\n",
       "      <th>Daewoo</th>\n",
       "      <td>6800.000000</td>\n",
       "    </tr>\n",
       "    <tr>\n",
       "      <th>FAW</th>\n",
       "      <td>69020.000000</td>\n",
       "    </tr>\n",
       "    <tr>\n",
       "      <th>Fiat</th>\n",
       "      <td>22768.000000</td>\n",
       "    </tr>\n",
       "    <tr>\n",
       "      <th>Ford</th>\n",
       "      <td>22726.285714</td>\n",
       "    </tr>\n",
       "    <tr>\n",
       "      <th>GAC</th>\n",
       "      <td>25900.000000</td>\n",
       "    </tr>\n",
       "    <tr>\n",
       "      <th>GAZ</th>\n",
       "      <td>15000.000000</td>\n",
       "    </tr>\n",
       "    <tr>\n",
       "      <th>Geely</th>\n",
       "      <td>12000.000000</td>\n",
       "    </tr>\n",
       "    <tr>\n",
       "      <th>Great Wall</th>\n",
       "      <td>40900.000000</td>\n",
       "    </tr>\n",
       "    <tr>\n",
       "      <th>Haval</th>\n",
       "      <td>47900.000000</td>\n",
       "    </tr>\n",
       "    <tr>\n",
       "      <th>Honda</th>\n",
       "      <td>17925.000000</td>\n",
       "    </tr>\n",
       "    <tr>\n",
       "      <th>Hyundai</th>\n",
       "      <td>25496.049383</td>\n",
       "    </tr>\n",
       "    <tr>\n",
       "      <th>Infiniti</th>\n",
       "      <td>43860.000000</td>\n",
       "    </tr>\n",
       "    <tr>\n",
       "      <th>Jeep</th>\n",
       "      <td>42450.000000</td>\n",
       "    </tr>\n",
       "    <tr>\n",
       "      <th>Keeway</th>\n",
       "      <td>5900.000000</td>\n",
       "    </tr>\n",
       "    <tr>\n",
       "      <th>Khazar</th>\n",
       "      <td>16500.000000</td>\n",
       "    </tr>\n",
       "    <tr>\n",
       "      <th>Kia</th>\n",
       "      <td>20106.878049</td>\n",
       "    </tr>\n",
       "    <tr>\n",
       "      <th>LADA (VAZ)</th>\n",
       "      <td>9782.758621</td>\n",
       "    </tr>\n",
       "    <tr>\n",
       "      <th>Land Rover</th>\n",
       "      <td>92781.379310</td>\n",
       "    </tr>\n",
       "    <tr>\n",
       "      <th>Lexus</th>\n",
       "      <td>85948.666667</td>\n",
       "    </tr>\n",
       "    <tr>\n",
       "      <th>Maserati</th>\n",
       "      <td>84830.000000</td>\n",
       "    </tr>\n",
       "    <tr>\n",
       "      <th>Mazda</th>\n",
       "      <td>59330.000000</td>\n",
       "    </tr>\n",
       "    <tr>\n",
       "      <th>Mercedes</th>\n",
       "      <td>69474.363636</td>\n",
       "    </tr>\n",
       "    <tr>\n",
       "      <th>Mini</th>\n",
       "      <td>29665.000000</td>\n",
       "    </tr>\n",
       "    <tr>\n",
       "      <th>Mitsubishi</th>\n",
       "      <td>38501.333333</td>\n",
       "    </tr>\n",
       "    <tr>\n",
       "      <th>Nissan</th>\n",
       "      <td>42180.000000</td>\n",
       "    </tr>\n",
       "    <tr>\n",
       "      <th>Opel</th>\n",
       "      <td>10796.551724</td>\n",
       "    </tr>\n",
       "    <tr>\n",
       "      <th>Porsche</th>\n",
       "      <td>91532.000000</td>\n",
       "    </tr>\n",
       "    <tr>\n",
       "      <th>Renault</th>\n",
       "      <td>8875.000000</td>\n",
       "    </tr>\n",
       "    <tr>\n",
       "      <th>SEAT</th>\n",
       "      <td>14200.000000</td>\n",
       "    </tr>\n",
       "    <tr>\n",
       "      <th>SYM</th>\n",
       "      <td>4000.000000</td>\n",
       "    </tr>\n",
       "    <tr>\n",
       "      <th>Saipa</th>\n",
       "      <td>5400.000000</td>\n",
       "    </tr>\n",
       "    <tr>\n",
       "      <th>Suzuki</th>\n",
       "      <td>14050.000000</td>\n",
       "    </tr>\n",
       "    <tr>\n",
       "      <th>Toyota</th>\n",
       "      <td>50964.719101</td>\n",
       "    </tr>\n",
       "    <tr>\n",
       "      <th>Volkswagen</th>\n",
       "      <td>41915.625000</td>\n",
       "    </tr>\n",
       "    <tr>\n",
       "      <th>Volvo</th>\n",
       "      <td>64600.000000</td>\n",
       "    </tr>\n",
       "  </tbody>\n",
       "</table>\n",
       "</div>"
      ],
      "text/plain": [
       "                    Price\n",
       "Marka                    \n",
       "Audi         54512.727273\n",
       "BMW          73837.142857\n",
       "Baic         28800.000000\n",
       "Benelli       5500.000000\n",
       "Cadillac    112200.000000\n",
       "Changan      20500.000000\n",
       "Chevrolet    20089.051724\n",
       "Chrysler      9400.000000\n",
       "Daewoo        6800.000000\n",
       "FAW          69020.000000\n",
       "Fiat         22768.000000\n",
       "Ford         22726.285714\n",
       "GAC          25900.000000\n",
       "GAZ          15000.000000\n",
       "Geely        12000.000000\n",
       "Great Wall   40900.000000\n",
       "Haval        47900.000000\n",
       "Honda        17925.000000\n",
       "Hyundai      25496.049383\n",
       "Infiniti     43860.000000\n",
       "Jeep         42450.000000\n",
       "Keeway        5900.000000\n",
       "Khazar       16500.000000\n",
       "Kia          20106.878049\n",
       "LADA (VAZ)    9782.758621\n",
       "Land Rover   92781.379310\n",
       "Lexus        85948.666667\n",
       "Maserati     84830.000000\n",
       "Mazda        59330.000000\n",
       "Mercedes     69474.363636\n",
       "Mini         29665.000000\n",
       "Mitsubishi   38501.333333\n",
       "Nissan       42180.000000\n",
       "Opel         10796.551724\n",
       "Porsche      91532.000000\n",
       "Renault       8875.000000\n",
       "SEAT         14200.000000\n",
       "SYM           4000.000000\n",
       "Saipa         5400.000000\n",
       "Suzuki       14050.000000\n",
       "Toyota       50964.719101\n",
       "Volkswagen   41915.625000\n",
       "Volvo        64600.000000"
      ]
     },
     "execution_count": 23,
     "metadata": {},
     "output_type": "execute_result"
    }
   ],
   "source": [
    "marka_mean_df = car_data.groupby('Marka').mean()[['Price']]\n",
    "marka_mean_df"
   ]
  },
  {
   "cell_type": "code",
   "execution_count": 24,
   "id": "00a27e65",
   "metadata": {},
   "outputs": [
    {
     "data": {
      "image/png": "[encoded data removed]",
      "text/plain": [
       "<Figure size 1080x360 with 1 Axes>"
      ]
     },
     "metadata": {
      "needs_background": "light"
     },
     "output_type": "display_data"
    }
   ],
   "source": [
    "f, ax = plt.subplots(figsize=(15,5)) \n",
    "sns.barplot(x = marka_mean_df.index,\n",
    "            y = 'Price',\n",
    "            data = marka_mean_df)\n",
    "\n",
    "plt.ylabel('Average Price')\n",
    "plt.xticks(rotation=90)\n",
    "plt.show()"
   ]
  },
  {
   "cell_type": "markdown",
   "id": "f306cb48",
   "metadata": {},
   "source": [
    "#### Types of vehicle and the Fuel they use :"
   ]
  },
  {
   "cell_type": "code",
   "execution_count": 25,
   "id": "cc20ff91",
   "metadata": {},
   "outputs": [
    {
     "data": {
      "text/html": [
       "<div>\n",
       "<style scoped>\n",
       "    .dataframe tbody tr th:only-of-type {\n",
       "        vertical-align: middle;\n",
       "    }\n",
       "\n",
       "    .dataframe tbody tr th {\n",
       "        vertical-align: top;\n",
       "    }\n",
       "\n",
       "    .dataframe thead th {\n",
       "        text-align: right;\n",
       "    }\n",
       "</style>\n",
       "<table border=\"1\" class=\"dataframe\">\n",
       "  <thead>\n",
       "    <tr style=\"text-align: right;\">\n",
       "      <th></th>\n",
       "      <th>Marka</th>\n",
       "    </tr>\n",
       "    <tr>\n",
       "      <th>Yanacaq növü</th>\n",
       "      <th></th>\n",
       "    </tr>\n",
       "  </thead>\n",
       "  <tbody>\n",
       "    <tr>\n",
       "      <th>Benzin</th>\n",
       "      <td>550</td>\n",
       "    </tr>\n",
       "    <tr>\n",
       "      <th>Dizel</th>\n",
       "      <td>110</td>\n",
       "    </tr>\n",
       "    <tr>\n",
       "      <th>Elektro</th>\n",
       "      <td>1</td>\n",
       "    </tr>\n",
       "    <tr>\n",
       "      <th>Hibrid</th>\n",
       "      <td>22</td>\n",
       "    </tr>\n",
       "    <tr>\n",
       "      <th>Qaz</th>\n",
       "      <td>1</td>\n",
       "    </tr>\n",
       "  </tbody>\n",
       "</table>\n",
       "</div>"
      ],
      "text/plain": [
       "              Marka\n",
       "Yanacaq növü       \n",
       "Benzin          550\n",
       "Dizel           110\n",
       "Elektro           1\n",
       "Hibrid           22\n",
       "Qaz               1"
      ]
     },
     "execution_count": 25,
     "metadata": {},
     "output_type": "execute_result"
    }
   ],
   "source": [
    "fuel_df = car_data.groupby('Yanacaq növü').count()[['Marka']]\n",
    "fuel_df"
   ]
  },
  {
   "cell_type": "code",
   "execution_count": 26,
   "id": "f6e75cf2",
   "metadata": {},
   "outputs": [
    {
     "data": {
      "image/png": "[encoded data removed]",
      "text/plain": [
       "<Figure size 432x288 with 1 Axes>"
      ]
     },
     "metadata": {
      "needs_background": "light"
     },
     "output_type": "display_data"
    }
   ],
   "source": [
    "values = list(fuel_df['Marka'])\n",
    "labels = list(fuel_df.index)\n",
    "plt.title(label='Number of cars by fuel type', fontsize=15)\n",
    "sns.barplot(labels,values)\n",
    "plt.xticks(rotation=90)\n",
    "plt.show()"
   ]
  },
  {
   "cell_type": "markdown",
   "id": "bee1e39b",
   "metadata": {},
   "source": [
    "#### Trend of number of cars for sale according to the year they were manufactured in :"
   ]
  },
  {
   "cell_type": "code",
   "execution_count": 27,
   "id": "122e44e0",
   "metadata": {},
   "outputs": [
    {
     "data": {
      "image/png": "[encoded data removed]",
      "text/plain": [
       "<Figure size 432x288 with 1 Axes>"
      ]
     },
     "metadata": {
      "needs_background": "light"
     },
     "output_type": "display_data"
    }
   ],
   "source": [
    "sns.kdeplot(data=car_data, x=\"Buraxılış ili\", shade=True, color=\"r\")\n",
    "plt.show()"
   ]
  },
  {
   "cell_type": "code",
   "execution_count": 28,
   "id": "a1a58024",
   "metadata": {},
   "outputs": [],
   "source": [
    "year_df = car_data.groupby('Buraxılış ili').count()[['Marka']]"
   ]
  },
  {
   "cell_type": "code",
   "execution_count": 29,
   "id": "db7fcd60",
   "metadata": {},
   "outputs": [
    {
     "data": {
      "image/png": "[encoded data removed]",
      "text/plain": [
       "<Figure size 1080x360 with 1 Axes>"
      ]
     },
     "metadata": {
      "needs_background": "light"
     },
     "output_type": "display_data"
    }
   ],
   "source": [
    "f, ax = plt.subplots(figsize=(15,5)) \n",
    "sns.barplot(x = year_df.index,\n",
    "            y = 'Marka',\n",
    "            data = year_df)\n",
    "plt.ylabel('Number of cars by Years')\n",
    "plt.xticks(rotation=90)\n",
    "plt.show()"
   ]
  },
  {
   "cell_type": "markdown",
   "id": "7af0056d",
   "metadata": {},
   "source": [
    "#### Relation of price other variables of a car:"
   ]
  },
  {
   "cell_type": "code",
   "execution_count": 30,
   "id": "32a7d138",
   "metadata": {},
   "outputs": [
    {
     "data": {
      "image/png": "[encoded data removed]",
      "text/plain": [
       "<Figure size 432x288 with 1 Axes>"
      ]
     },
     "metadata": {
      "needs_background": "light"
     },
     "output_type": "display_data"
    }
   ],
   "source": [
    "ax = sns.boxplot(x=\"Yanacaq növü\", y=\"Price\", data=car_data)"
   ]
  },
  {
   "cell_type": "code",
   "execution_count": 31,
   "id": "404e7f68",
   "metadata": {},
   "outputs": [
    {
     "data": {
      "image/png": "[encoded data removed]",
      "text/plain": [
       "<Figure size 432x288 with 1 Axes>"
      ]
     },
     "metadata": {
      "needs_background": "light"
     },
     "output_type": "display_data"
    }
   ],
   "source": [
    "ax = sns.boxplot(x=\"Sürətlər qutusu\", y=\"Price\", data=car_data)\n",
    "plt.xticks(rotation=90)\n",
    "plt.show()"
   ]
  },
  {
   "cell_type": "code",
   "execution_count": 32,
   "id": "b0c384fb",
   "metadata": {},
   "outputs": [
    {
     "data": {
      "image/png": "[encoded data removed]",
      "text/plain": [
       "<Figure size 720x360 with 1 Axes>"
      ]
     },
     "metadata": {
      "needs_background": "light"
     },
     "output_type": "display_data"
    }
   ],
   "source": [
    "f, ax = plt.subplots(figsize=(10,5))\n",
    "ax = sns.boxplot(x=\"Rəng\", y=\"Price\", data=car_data)\n",
    "plt.xticks(rotation=90)\n",
    "plt.show()"
   ]
  },
  {
   "cell_type": "code",
   "execution_count": 33,
   "id": "1a8d7ffe",
   "metadata": {},
   "outputs": [
    {
     "data": {
      "image/png": "[encoded data removed]",
      "text/plain": [
       "<Figure size 432x288 with 1 Axes>"
      ]
     },
     "metadata": {
      "needs_background": "light"
     },
     "output_type": "display_data"
    }
   ],
   "source": [
    "ax = sns.boxplot(x=\"Ötürücü\", y=\"Price\", data=car_data)\n",
    "plt.xticks(rotation=90)\n",
    "plt.show()"
   ]
  },
  {
   "cell_type": "code",
   "execution_count": 34,
   "id": "887c4948",
   "metadata": {},
   "outputs": [
    {
     "data": {
      "image/png": "[encoded data removed]",
      "text/plain": [
       "<Figure size 432x288 with 1 Axes>"
      ]
     },
     "metadata": {
      "needs_background": "light"
     },
     "output_type": "display_data"
    }
   ],
   "source": [
    "ax = sns.boxplot(x=\"Ban növü\", y=\"Price\", data=car_data)\n",
    "plt.xticks(rotation=90)\n",
    "plt.show()"
   ]
  },
  {
   "cell_type": "code",
   "execution_count": 35,
   "id": "ffaf9a62",
   "metadata": {},
   "outputs": [
    {
     "data": {
      "image/png": "[encoded data removed]",
      "text/plain": [
       "<Figure size 432x288 with 1 Axes>"
      ]
     },
     "metadata": {
      "needs_background": "light"
     },
     "output_type": "display_data"
    }
   ],
   "source": [
    "ax = sns.boxplot(x=\"Yeni\", y=\"Price\", data=car_data)\n",
    "plt.xticks(rotation=90)\n",
    "plt.show()"
   ]
  },
  {
   "cell_type": "code",
   "execution_count": null,
   "id": "07e20f89",
   "metadata": {},
   "outputs": [],
   "source": []
  }
 ],
 "metadata": {
  "colab": {
   "name": "Car Price Prediction.ipynb",
   "provenance": []
  },
  "kernelspec": {
   "display_name": "Python 3",
   "language": "python",
   "name": "python3"
  },
  "language_info": {
   "codemirror_mode": {
    "name": "ipython",
    "version": 3
   },
   "file_extension": ".py",
   "mimetype": "text/x-python",
   "name": "python",
   "nbconvert_exporter": "python",
   "pygments_lexer": "ipython3",
   "version": "3.8.8"
  }
 },
 "nbformat": 4,
 "nbformat_minor": 5
}
